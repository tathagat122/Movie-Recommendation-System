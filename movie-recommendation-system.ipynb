{
    "cells": [
        {
            "cell_type": "code",
            "execution_count": 1,
            "source": [
                "import numpy as np\r\n",
                "import pandas as pd"
            ],
            "outputs": [],
            "metadata": {}
        },
        {
            "cell_type": "code",
            "execution_count": 2,
            "source": [
                "movies = pd.read_csv(\"tmdb_5000_movies.csv\")\r\n",
                "credits = pd.read_csv(\"tmdb_5000_credits.csv\")"
            ],
            "outputs": [],
            "metadata": {}
        },
        {
            "cell_type": "code",
            "execution_count": 3,
            "source": [
                "movies = movies.merge(credits,on='title')"
            ],
            "outputs": [],
            "metadata": {}
        },
        {
            "cell_type": "code",
            "execution_count": 4,
            "source": [
                "movies = movies[['movie_id','title','overview','genres','keywords','cast','crew']]"
            ],
            "outputs": [],
            "metadata": {}
        },
        {
            "cell_type": "code",
            "execution_count": 5,
            "source": [
                "movies.head()"
            ],
            "outputs": [
                {
                    "output_type": "execute_result",
                    "data": {
                        "text/plain": [
                            "   movie_id                                     title  \\\n",
                            "0     19995                                    Avatar   \n",
                            "1       285  Pirates of the Caribbean: At World's End   \n",
                            "2    206647                                   Spectre   \n",
                            "3     49026                     The Dark Knight Rises   \n",
                            "4     49529                               John Carter   \n",
                            "\n",
                            "                                            overview  \\\n",
                            "0  In the 22nd century, a paraplegic Marine is di...   \n",
                            "1  Captain Barbossa, long believed to be dead, ha...   \n",
                            "2  A cryptic message from Bond’s past sends him o...   \n",
                            "3  Following the death of District Attorney Harve...   \n",
                            "4  John Carter is a war-weary, former military ca...   \n",
                            "\n",
                            "                                              genres  \\\n",
                            "0  [{\"id\": 28, \"name\": \"Action\"}, {\"id\": 12, \"nam...   \n",
                            "1  [{\"id\": 12, \"name\": \"Adventure\"}, {\"id\": 14, \"...   \n",
                            "2  [{\"id\": 28, \"name\": \"Action\"}, {\"id\": 12, \"nam...   \n",
                            "3  [{\"id\": 28, \"name\": \"Action\"}, {\"id\": 80, \"nam...   \n",
                            "4  [{\"id\": 28, \"name\": \"Action\"}, {\"id\": 12, \"nam...   \n",
                            "\n",
                            "                                            keywords  \\\n",
                            "0  [{\"id\": 1463, \"name\": \"culture clash\"}, {\"id\":...   \n",
                            "1  [{\"id\": 270, \"name\": \"ocean\"}, {\"id\": 726, \"na...   \n",
                            "2  [{\"id\": 470, \"name\": \"spy\"}, {\"id\": 818, \"name...   \n",
                            "3  [{\"id\": 849, \"name\": \"dc comics\"}, {\"id\": 853,...   \n",
                            "4  [{\"id\": 818, \"name\": \"based on novel\"}, {\"id\":...   \n",
                            "\n",
                            "                                                cast  \\\n",
                            "0  [{\"cast_id\": 242, \"character\": \"Jake Sully\", \"...   \n",
                            "1  [{\"cast_id\": 4, \"character\": \"Captain Jack Spa...   \n",
                            "2  [{\"cast_id\": 1, \"character\": \"James Bond\", \"cr...   \n",
                            "3  [{\"cast_id\": 2, \"character\": \"Bruce Wayne / Ba...   \n",
                            "4  [{\"cast_id\": 5, \"character\": \"John Carter\", \"c...   \n",
                            "\n",
                            "                                                crew  \n",
                            "0  [{\"credit_id\": \"52fe48009251416c750aca23\", \"de...  \n",
                            "1  [{\"credit_id\": \"52fe4232c3a36847f800b579\", \"de...  \n",
                            "2  [{\"credit_id\": \"54805967c3a36829b5002c41\", \"de...  \n",
                            "3  [{\"credit_id\": \"52fe4781c3a36847f81398c3\", \"de...  \n",
                            "4  [{\"credit_id\": \"52fe479ac3a36847f813eaa3\", \"de...  "
                        ],
                        "text/html": [
                            "<div>\n",
                            "<style scoped>\n",
                            "    .dataframe tbody tr th:only-of-type {\n",
                            "        vertical-align: middle;\n",
                            "    }\n",
                            "\n",
                            "    .dataframe tbody tr th {\n",
                            "        vertical-align: top;\n",
                            "    }\n",
                            "\n",
                            "    .dataframe thead th {\n",
                            "        text-align: right;\n",
                            "    }\n",
                            "</style>\n",
                            "<table border=\"1\" class=\"dataframe\">\n",
                            "  <thead>\n",
                            "    <tr style=\"text-align: right;\">\n",
                            "      <th></th>\n",
                            "      <th>movie_id</th>\n",
                            "      <th>title</th>\n",
                            "      <th>overview</th>\n",
                            "      <th>genres</th>\n",
                            "      <th>keywords</th>\n",
                            "      <th>cast</th>\n",
                            "      <th>crew</th>\n",
                            "    </tr>\n",
                            "  </thead>\n",
                            "  <tbody>\n",
                            "    <tr>\n",
                            "      <th>0</th>\n",
                            "      <td>19995</td>\n",
                            "      <td>Avatar</td>\n",
                            "      <td>In the 22nd century, a paraplegic Marine is di...</td>\n",
                            "      <td>[{\"id\": 28, \"name\": \"Action\"}, {\"id\": 12, \"nam...</td>\n",
                            "      <td>[{\"id\": 1463, \"name\": \"culture clash\"}, {\"id\":...</td>\n",
                            "      <td>[{\"cast_id\": 242, \"character\": \"Jake Sully\", \"...</td>\n",
                            "      <td>[{\"credit_id\": \"52fe48009251416c750aca23\", \"de...</td>\n",
                            "    </tr>\n",
                            "    <tr>\n",
                            "      <th>1</th>\n",
                            "      <td>285</td>\n",
                            "      <td>Pirates of the Caribbean: At World's End</td>\n",
                            "      <td>Captain Barbossa, long believed to be dead, ha...</td>\n",
                            "      <td>[{\"id\": 12, \"name\": \"Adventure\"}, {\"id\": 14, \"...</td>\n",
                            "      <td>[{\"id\": 270, \"name\": \"ocean\"}, {\"id\": 726, \"na...</td>\n",
                            "      <td>[{\"cast_id\": 4, \"character\": \"Captain Jack Spa...</td>\n",
                            "      <td>[{\"credit_id\": \"52fe4232c3a36847f800b579\", \"de...</td>\n",
                            "    </tr>\n",
                            "    <tr>\n",
                            "      <th>2</th>\n",
                            "      <td>206647</td>\n",
                            "      <td>Spectre</td>\n",
                            "      <td>A cryptic message from Bond’s past sends him o...</td>\n",
                            "      <td>[{\"id\": 28, \"name\": \"Action\"}, {\"id\": 12, \"nam...</td>\n",
                            "      <td>[{\"id\": 470, \"name\": \"spy\"}, {\"id\": 818, \"name...</td>\n",
                            "      <td>[{\"cast_id\": 1, \"character\": \"James Bond\", \"cr...</td>\n",
                            "      <td>[{\"credit_id\": \"54805967c3a36829b5002c41\", \"de...</td>\n",
                            "    </tr>\n",
                            "    <tr>\n",
                            "      <th>3</th>\n",
                            "      <td>49026</td>\n",
                            "      <td>The Dark Knight Rises</td>\n",
                            "      <td>Following the death of District Attorney Harve...</td>\n",
                            "      <td>[{\"id\": 28, \"name\": \"Action\"}, {\"id\": 80, \"nam...</td>\n",
                            "      <td>[{\"id\": 849, \"name\": \"dc comics\"}, {\"id\": 853,...</td>\n",
                            "      <td>[{\"cast_id\": 2, \"character\": \"Bruce Wayne / Ba...</td>\n",
                            "      <td>[{\"credit_id\": \"52fe4781c3a36847f81398c3\", \"de...</td>\n",
                            "    </tr>\n",
                            "    <tr>\n",
                            "      <th>4</th>\n",
                            "      <td>49529</td>\n",
                            "      <td>John Carter</td>\n",
                            "      <td>John Carter is a war-weary, former military ca...</td>\n",
                            "      <td>[{\"id\": 28, \"name\": \"Action\"}, {\"id\": 12, \"nam...</td>\n",
                            "      <td>[{\"id\": 818, \"name\": \"based on novel\"}, {\"id\":...</td>\n",
                            "      <td>[{\"cast_id\": 5, \"character\": \"John Carter\", \"c...</td>\n",
                            "      <td>[{\"credit_id\": \"52fe479ac3a36847f813eaa3\", \"de...</td>\n",
                            "    </tr>\n",
                            "  </tbody>\n",
                            "</table>\n",
                            "</div>"
                        ]
                    },
                    "metadata": {},
                    "execution_count": 5
                }
            ],
            "metadata": {}
        },
        {
            "cell_type": "code",
            "execution_count": 6,
            "source": [
                "movies.isnull().sum()"
            ],
            "outputs": [
                {
                    "output_type": "execute_result",
                    "data": {
                        "text/plain": [
                            "movie_id    0\n",
                            "title       0\n",
                            "overview    3\n",
                            "genres      0\n",
                            "keywords    0\n",
                            "cast        0\n",
                            "crew        0\n",
                            "dtype: int64"
                        ]
                    },
                    "metadata": {},
                    "execution_count": 6
                }
            ],
            "metadata": {}
        },
        {
            "cell_type": "code",
            "execution_count": 7,
            "source": [
                "movies.dropna(inplace=True)"
            ],
            "outputs": [],
            "metadata": {}
        },
        {
            "cell_type": "code",
            "execution_count": 8,
            "source": [
                "movies.isnull().sum()"
            ],
            "outputs": [
                {
                    "output_type": "execute_result",
                    "data": {
                        "text/plain": [
                            "movie_id    0\n",
                            "title       0\n",
                            "overview    0\n",
                            "genres      0\n",
                            "keywords    0\n",
                            "cast        0\n",
                            "crew        0\n",
                            "dtype: int64"
                        ]
                    },
                    "metadata": {},
                    "execution_count": 8
                }
            ],
            "metadata": {}
        },
        {
            "cell_type": "code",
            "execution_count": 9,
            "source": [
                "movies.duplicated().sum()"
            ],
            "outputs": [
                {
                    "output_type": "execute_result",
                    "data": {
                        "text/plain": [
                            "0"
                        ]
                    },
                    "metadata": {},
                    "execution_count": 9
                }
            ],
            "metadata": {}
        },
        {
            "cell_type": "code",
            "execution_count": 10,
            "source": [
                "import ast\r\n",
                "\r\n",
                "def convert(obj):\r\n",
                "    L = []\r\n",
                "    for i in ast.literal_eval(obj):\r\n",
                "        L.append(i['name'])\r\n",
                "    return L"
            ],
            "outputs": [],
            "metadata": {}
        },
        {
            "cell_type": "code",
            "execution_count": 11,
            "source": [
                "movies['genres'] = movies['genres'].apply(convert)\r\n",
                "movies['keywords'] = movies['keywords'].apply(convert)"
            ],
            "outputs": [],
            "metadata": {}
        },
        {
            "cell_type": "code",
            "execution_count": 12,
            "source": [
                "def convert2(obj):\r\n",
                "    L = []\r\n",
                "    counter = 0\r\n",
                "    for i in ast.literal_eval(obj):\r\n",
                "        if counter != 3:\r\n",
                "            L.append(i['name'])\r\n",
                "            counter += 1\r\n",
                "        else:\r\n",
                "            break\r\n",
                "\r\n",
                "    return L"
            ],
            "outputs": [],
            "metadata": {}
        },
        {
            "cell_type": "code",
            "execution_count": 13,
            "source": [
                "movies['cast'] = movies['cast'].apply(convert2)"
            ],
            "outputs": [],
            "metadata": {}
        },
        {
            "cell_type": "code",
            "execution_count": 14,
            "source": [
                "def fetch_director(obj):\r\n",
                "    L = []\r\n",
                "    for i in ast.literal_eval(obj):\r\n",
                "        if i['job'] == 'Director':\r\n",
                "            L.append(i['name'])\r\n",
                "            break\r\n",
                "\r\n",
                "    return L"
            ],
            "outputs": [],
            "metadata": {}
        },
        {
            "cell_type": "code",
            "execution_count": 15,
            "source": [
                "movies['crew'] = movies['crew'].apply(fetch_director)"
            ],
            "outputs": [],
            "metadata": {}
        },
        {
            "cell_type": "code",
            "execution_count": 16,
            "source": [
                "movies.head()"
            ],
            "outputs": [
                {
                    "output_type": "execute_result",
                    "data": {
                        "text/plain": [
                            "   movie_id                                     title  \\\n",
                            "0     19995                                    Avatar   \n",
                            "1       285  Pirates of the Caribbean: At World's End   \n",
                            "2    206647                                   Spectre   \n",
                            "3     49026                     The Dark Knight Rises   \n",
                            "4     49529                               John Carter   \n",
                            "\n",
                            "                                            overview  \\\n",
                            "0  In the 22nd century, a paraplegic Marine is di...   \n",
                            "1  Captain Barbossa, long believed to be dead, ha...   \n",
                            "2  A cryptic message from Bond’s past sends him o...   \n",
                            "3  Following the death of District Attorney Harve...   \n",
                            "4  John Carter is a war-weary, former military ca...   \n",
                            "\n",
                            "                                          genres  \\\n",
                            "0  [Action, Adventure, Fantasy, Science Fiction]   \n",
                            "1                   [Adventure, Fantasy, Action]   \n",
                            "2                     [Action, Adventure, Crime]   \n",
                            "3               [Action, Crime, Drama, Thriller]   \n",
                            "4           [Action, Adventure, Science Fiction]   \n",
                            "\n",
                            "                                            keywords  \\\n",
                            "0  [culture clash, future, space war, space colon...   \n",
                            "1  [ocean, drug abuse, exotic island, east india ...   \n",
                            "2  [spy, based on novel, secret agent, sequel, mi...   \n",
                            "3  [dc comics, crime fighter, terrorist, secret i...   \n",
                            "4  [based on novel, mars, medallion, space travel...   \n",
                            "\n",
                            "                                               cast                 crew  \n",
                            "0  [Sam Worthington, Zoe Saldana, Sigourney Weaver]      [James Cameron]  \n",
                            "1     [Johnny Depp, Orlando Bloom, Keira Knightley]     [Gore Verbinski]  \n",
                            "2      [Daniel Craig, Christoph Waltz, Léa Seydoux]         [Sam Mendes]  \n",
                            "3      [Christian Bale, Michael Caine, Gary Oldman]  [Christopher Nolan]  \n",
                            "4    [Taylor Kitsch, Lynn Collins, Samantha Morton]     [Andrew Stanton]  "
                        ],
                        "text/html": [
                            "<div>\n",
                            "<style scoped>\n",
                            "    .dataframe tbody tr th:only-of-type {\n",
                            "        vertical-align: middle;\n",
                            "    }\n",
                            "\n",
                            "    .dataframe tbody tr th {\n",
                            "        vertical-align: top;\n",
                            "    }\n",
                            "\n",
                            "    .dataframe thead th {\n",
                            "        text-align: right;\n",
                            "    }\n",
                            "</style>\n",
                            "<table border=\"1\" class=\"dataframe\">\n",
                            "  <thead>\n",
                            "    <tr style=\"text-align: right;\">\n",
                            "      <th></th>\n",
                            "      <th>movie_id</th>\n",
                            "      <th>title</th>\n",
                            "      <th>overview</th>\n",
                            "      <th>genres</th>\n",
                            "      <th>keywords</th>\n",
                            "      <th>cast</th>\n",
                            "      <th>crew</th>\n",
                            "    </tr>\n",
                            "  </thead>\n",
                            "  <tbody>\n",
                            "    <tr>\n",
                            "      <th>0</th>\n",
                            "      <td>19995</td>\n",
                            "      <td>Avatar</td>\n",
                            "      <td>In the 22nd century, a paraplegic Marine is di...</td>\n",
                            "      <td>[Action, Adventure, Fantasy, Science Fiction]</td>\n",
                            "      <td>[culture clash, future, space war, space colon...</td>\n",
                            "      <td>[Sam Worthington, Zoe Saldana, Sigourney Weaver]</td>\n",
                            "      <td>[James Cameron]</td>\n",
                            "    </tr>\n",
                            "    <tr>\n",
                            "      <th>1</th>\n",
                            "      <td>285</td>\n",
                            "      <td>Pirates of the Caribbean: At World's End</td>\n",
                            "      <td>Captain Barbossa, long believed to be dead, ha...</td>\n",
                            "      <td>[Adventure, Fantasy, Action]</td>\n",
                            "      <td>[ocean, drug abuse, exotic island, east india ...</td>\n",
                            "      <td>[Johnny Depp, Orlando Bloom, Keira Knightley]</td>\n",
                            "      <td>[Gore Verbinski]</td>\n",
                            "    </tr>\n",
                            "    <tr>\n",
                            "      <th>2</th>\n",
                            "      <td>206647</td>\n",
                            "      <td>Spectre</td>\n",
                            "      <td>A cryptic message from Bond’s past sends him o...</td>\n",
                            "      <td>[Action, Adventure, Crime]</td>\n",
                            "      <td>[spy, based on novel, secret agent, sequel, mi...</td>\n",
                            "      <td>[Daniel Craig, Christoph Waltz, Léa Seydoux]</td>\n",
                            "      <td>[Sam Mendes]</td>\n",
                            "    </tr>\n",
                            "    <tr>\n",
                            "      <th>3</th>\n",
                            "      <td>49026</td>\n",
                            "      <td>The Dark Knight Rises</td>\n",
                            "      <td>Following the death of District Attorney Harve...</td>\n",
                            "      <td>[Action, Crime, Drama, Thriller]</td>\n",
                            "      <td>[dc comics, crime fighter, terrorist, secret i...</td>\n",
                            "      <td>[Christian Bale, Michael Caine, Gary Oldman]</td>\n",
                            "      <td>[Christopher Nolan]</td>\n",
                            "    </tr>\n",
                            "    <tr>\n",
                            "      <th>4</th>\n",
                            "      <td>49529</td>\n",
                            "      <td>John Carter</td>\n",
                            "      <td>John Carter is a war-weary, former military ca...</td>\n",
                            "      <td>[Action, Adventure, Science Fiction]</td>\n",
                            "      <td>[based on novel, mars, medallion, space travel...</td>\n",
                            "      <td>[Taylor Kitsch, Lynn Collins, Samantha Morton]</td>\n",
                            "      <td>[Andrew Stanton]</td>\n",
                            "    </tr>\n",
                            "  </tbody>\n",
                            "</table>\n",
                            "</div>"
                        ]
                    },
                    "metadata": {},
                    "execution_count": 16
                }
            ],
            "metadata": {}
        },
        {
            "cell_type": "code",
            "execution_count": 17,
            "source": [
                "movies['overview'] = movies['overview'].apply(lambda x:x.split())"
            ],
            "outputs": [],
            "metadata": {}
        },
        {
            "cell_type": "code",
            "execution_count": 18,
            "source": [
                "movies.head()"
            ],
            "outputs": [
                {
                    "output_type": "execute_result",
                    "data": {
                        "text/plain": [
                            "   movie_id                                     title  \\\n",
                            "0     19995                                    Avatar   \n",
                            "1       285  Pirates of the Caribbean: At World's End   \n",
                            "2    206647                                   Spectre   \n",
                            "3     49026                     The Dark Knight Rises   \n",
                            "4     49529                               John Carter   \n",
                            "\n",
                            "                                            overview  \\\n",
                            "0  [In, the, 22nd, century,, a, paraplegic, Marin...   \n",
                            "1  [Captain, Barbossa,, long, believed, to, be, d...   \n",
                            "2  [A, cryptic, message, from, Bond’s, past, send...   \n",
                            "3  [Following, the, death, of, District, Attorney...   \n",
                            "4  [John, Carter, is, a, war-weary,, former, mili...   \n",
                            "\n",
                            "                                          genres  \\\n",
                            "0  [Action, Adventure, Fantasy, Science Fiction]   \n",
                            "1                   [Adventure, Fantasy, Action]   \n",
                            "2                     [Action, Adventure, Crime]   \n",
                            "3               [Action, Crime, Drama, Thriller]   \n",
                            "4           [Action, Adventure, Science Fiction]   \n",
                            "\n",
                            "                                            keywords  \\\n",
                            "0  [culture clash, future, space war, space colon...   \n",
                            "1  [ocean, drug abuse, exotic island, east india ...   \n",
                            "2  [spy, based on novel, secret agent, sequel, mi...   \n",
                            "3  [dc comics, crime fighter, terrorist, secret i...   \n",
                            "4  [based on novel, mars, medallion, space travel...   \n",
                            "\n",
                            "                                               cast                 crew  \n",
                            "0  [Sam Worthington, Zoe Saldana, Sigourney Weaver]      [James Cameron]  \n",
                            "1     [Johnny Depp, Orlando Bloom, Keira Knightley]     [Gore Verbinski]  \n",
                            "2      [Daniel Craig, Christoph Waltz, Léa Seydoux]         [Sam Mendes]  \n",
                            "3      [Christian Bale, Michael Caine, Gary Oldman]  [Christopher Nolan]  \n",
                            "4    [Taylor Kitsch, Lynn Collins, Samantha Morton]     [Andrew Stanton]  "
                        ],
                        "text/html": [
                            "<div>\n",
                            "<style scoped>\n",
                            "    .dataframe tbody tr th:only-of-type {\n",
                            "        vertical-align: middle;\n",
                            "    }\n",
                            "\n",
                            "    .dataframe tbody tr th {\n",
                            "        vertical-align: top;\n",
                            "    }\n",
                            "\n",
                            "    .dataframe thead th {\n",
                            "        text-align: right;\n",
                            "    }\n",
                            "</style>\n",
                            "<table border=\"1\" class=\"dataframe\">\n",
                            "  <thead>\n",
                            "    <tr style=\"text-align: right;\">\n",
                            "      <th></th>\n",
                            "      <th>movie_id</th>\n",
                            "      <th>title</th>\n",
                            "      <th>overview</th>\n",
                            "      <th>genres</th>\n",
                            "      <th>keywords</th>\n",
                            "      <th>cast</th>\n",
                            "      <th>crew</th>\n",
                            "    </tr>\n",
                            "  </thead>\n",
                            "  <tbody>\n",
                            "    <tr>\n",
                            "      <th>0</th>\n",
                            "      <td>19995</td>\n",
                            "      <td>Avatar</td>\n",
                            "      <td>[In, the, 22nd, century,, a, paraplegic, Marin...</td>\n",
                            "      <td>[Action, Adventure, Fantasy, Science Fiction]</td>\n",
                            "      <td>[culture clash, future, space war, space colon...</td>\n",
                            "      <td>[Sam Worthington, Zoe Saldana, Sigourney Weaver]</td>\n",
                            "      <td>[James Cameron]</td>\n",
                            "    </tr>\n",
                            "    <tr>\n",
                            "      <th>1</th>\n",
                            "      <td>285</td>\n",
                            "      <td>Pirates of the Caribbean: At World's End</td>\n",
                            "      <td>[Captain, Barbossa,, long, believed, to, be, d...</td>\n",
                            "      <td>[Adventure, Fantasy, Action]</td>\n",
                            "      <td>[ocean, drug abuse, exotic island, east india ...</td>\n",
                            "      <td>[Johnny Depp, Orlando Bloom, Keira Knightley]</td>\n",
                            "      <td>[Gore Verbinski]</td>\n",
                            "    </tr>\n",
                            "    <tr>\n",
                            "      <th>2</th>\n",
                            "      <td>206647</td>\n",
                            "      <td>Spectre</td>\n",
                            "      <td>[A, cryptic, message, from, Bond’s, past, send...</td>\n",
                            "      <td>[Action, Adventure, Crime]</td>\n",
                            "      <td>[spy, based on novel, secret agent, sequel, mi...</td>\n",
                            "      <td>[Daniel Craig, Christoph Waltz, Léa Seydoux]</td>\n",
                            "      <td>[Sam Mendes]</td>\n",
                            "    </tr>\n",
                            "    <tr>\n",
                            "      <th>3</th>\n",
                            "      <td>49026</td>\n",
                            "      <td>The Dark Knight Rises</td>\n",
                            "      <td>[Following, the, death, of, District, Attorney...</td>\n",
                            "      <td>[Action, Crime, Drama, Thriller]</td>\n",
                            "      <td>[dc comics, crime fighter, terrorist, secret i...</td>\n",
                            "      <td>[Christian Bale, Michael Caine, Gary Oldman]</td>\n",
                            "      <td>[Christopher Nolan]</td>\n",
                            "    </tr>\n",
                            "    <tr>\n",
                            "      <th>4</th>\n",
                            "      <td>49529</td>\n",
                            "      <td>John Carter</td>\n",
                            "      <td>[John, Carter, is, a, war-weary,, former, mili...</td>\n",
                            "      <td>[Action, Adventure, Science Fiction]</td>\n",
                            "      <td>[based on novel, mars, medallion, space travel...</td>\n",
                            "      <td>[Taylor Kitsch, Lynn Collins, Samantha Morton]</td>\n",
                            "      <td>[Andrew Stanton]</td>\n",
                            "    </tr>\n",
                            "  </tbody>\n",
                            "</table>\n",
                            "</div>"
                        ]
                    },
                    "metadata": {},
                    "execution_count": 18
                }
            ],
            "metadata": {}
        },
        {
            "cell_type": "code",
            "execution_count": 19,
            "source": [
                "movies['genres'] = movies['genres'].apply(lambda x:[i.replace(\" \",\"\") for i in x])\r\n",
                "movies['keywords'] = movies['keywords'].apply(lambda x:[i.replace(\" \",\"\") for i in x])\r\n",
                "movies['cast'] = movies['cast'].apply(lambda x:[i.replace(\" \",\"\") for i in x])\r\n",
                "movies['crew'] = movies['crew'].apply(lambda x:[i.replace(\" \",\"\") for i in x])"
            ],
            "outputs": [],
            "metadata": {}
        },
        {
            "cell_type": "code",
            "execution_count": 20,
            "source": [
                "movies.head()"
            ],
            "outputs": [
                {
                    "output_type": "execute_result",
                    "data": {
                        "text/plain": [
                            "   movie_id                                     title  \\\n",
                            "0     19995                                    Avatar   \n",
                            "1       285  Pirates of the Caribbean: At World's End   \n",
                            "2    206647                                   Spectre   \n",
                            "3     49026                     The Dark Knight Rises   \n",
                            "4     49529                               John Carter   \n",
                            "\n",
                            "                                            overview  \\\n",
                            "0  [In, the, 22nd, century,, a, paraplegic, Marin...   \n",
                            "1  [Captain, Barbossa,, long, believed, to, be, d...   \n",
                            "2  [A, cryptic, message, from, Bond’s, past, send...   \n",
                            "3  [Following, the, death, of, District, Attorney...   \n",
                            "4  [John, Carter, is, a, war-weary,, former, mili...   \n",
                            "\n",
                            "                                         genres  \\\n",
                            "0  [Action, Adventure, Fantasy, ScienceFiction]   \n",
                            "1                  [Adventure, Fantasy, Action]   \n",
                            "2                    [Action, Adventure, Crime]   \n",
                            "3              [Action, Crime, Drama, Thriller]   \n",
                            "4           [Action, Adventure, ScienceFiction]   \n",
                            "\n",
                            "                                            keywords  \\\n",
                            "0  [cultureclash, future, spacewar, spacecolony, ...   \n",
                            "1  [ocean, drugabuse, exoticisland, eastindiatrad...   \n",
                            "2  [spy, basedonnovel, secretagent, sequel, mi6, ...   \n",
                            "3  [dccomics, crimefighter, terrorist, secretiden...   \n",
                            "4  [basedonnovel, mars, medallion, spacetravel, p...   \n",
                            "\n",
                            "                                            cast                crew  \n",
                            "0  [SamWorthington, ZoeSaldana, SigourneyWeaver]      [JamesCameron]  \n",
                            "1     [JohnnyDepp, OrlandoBloom, KeiraKnightley]     [GoreVerbinski]  \n",
                            "2      [DanielCraig, ChristophWaltz, LéaSeydoux]         [SamMendes]  \n",
                            "3      [ChristianBale, MichaelCaine, GaryOldman]  [ChristopherNolan]  \n",
                            "4    [TaylorKitsch, LynnCollins, SamanthaMorton]     [AndrewStanton]  "
                        ],
                        "text/html": [
                            "<div>\n",
                            "<style scoped>\n",
                            "    .dataframe tbody tr th:only-of-type {\n",
                            "        vertical-align: middle;\n",
                            "    }\n",
                            "\n",
                            "    .dataframe tbody tr th {\n",
                            "        vertical-align: top;\n",
                            "    }\n",
                            "\n",
                            "    .dataframe thead th {\n",
                            "        text-align: right;\n",
                            "    }\n",
                            "</style>\n",
                            "<table border=\"1\" class=\"dataframe\">\n",
                            "  <thead>\n",
                            "    <tr style=\"text-align: right;\">\n",
                            "      <th></th>\n",
                            "      <th>movie_id</th>\n",
                            "      <th>title</th>\n",
                            "      <th>overview</th>\n",
                            "      <th>genres</th>\n",
                            "      <th>keywords</th>\n",
                            "      <th>cast</th>\n",
                            "      <th>crew</th>\n",
                            "    </tr>\n",
                            "  </thead>\n",
                            "  <tbody>\n",
                            "    <tr>\n",
                            "      <th>0</th>\n",
                            "      <td>19995</td>\n",
                            "      <td>Avatar</td>\n",
                            "      <td>[In, the, 22nd, century,, a, paraplegic, Marin...</td>\n",
                            "      <td>[Action, Adventure, Fantasy, ScienceFiction]</td>\n",
                            "      <td>[cultureclash, future, spacewar, spacecolony, ...</td>\n",
                            "      <td>[SamWorthington, ZoeSaldana, SigourneyWeaver]</td>\n",
                            "      <td>[JamesCameron]</td>\n",
                            "    </tr>\n",
                            "    <tr>\n",
                            "      <th>1</th>\n",
                            "      <td>285</td>\n",
                            "      <td>Pirates of the Caribbean: At World's End</td>\n",
                            "      <td>[Captain, Barbossa,, long, believed, to, be, d...</td>\n",
                            "      <td>[Adventure, Fantasy, Action]</td>\n",
                            "      <td>[ocean, drugabuse, exoticisland, eastindiatrad...</td>\n",
                            "      <td>[JohnnyDepp, OrlandoBloom, KeiraKnightley]</td>\n",
                            "      <td>[GoreVerbinski]</td>\n",
                            "    </tr>\n",
                            "    <tr>\n",
                            "      <th>2</th>\n",
                            "      <td>206647</td>\n",
                            "      <td>Spectre</td>\n",
                            "      <td>[A, cryptic, message, from, Bond’s, past, send...</td>\n",
                            "      <td>[Action, Adventure, Crime]</td>\n",
                            "      <td>[spy, basedonnovel, secretagent, sequel, mi6, ...</td>\n",
                            "      <td>[DanielCraig, ChristophWaltz, LéaSeydoux]</td>\n",
                            "      <td>[SamMendes]</td>\n",
                            "    </tr>\n",
                            "    <tr>\n",
                            "      <th>3</th>\n",
                            "      <td>49026</td>\n",
                            "      <td>The Dark Knight Rises</td>\n",
                            "      <td>[Following, the, death, of, District, Attorney...</td>\n",
                            "      <td>[Action, Crime, Drama, Thriller]</td>\n",
                            "      <td>[dccomics, crimefighter, terrorist, secretiden...</td>\n",
                            "      <td>[ChristianBale, MichaelCaine, GaryOldman]</td>\n",
                            "      <td>[ChristopherNolan]</td>\n",
                            "    </tr>\n",
                            "    <tr>\n",
                            "      <th>4</th>\n",
                            "      <td>49529</td>\n",
                            "      <td>John Carter</td>\n",
                            "      <td>[John, Carter, is, a, war-weary,, former, mili...</td>\n",
                            "      <td>[Action, Adventure, ScienceFiction]</td>\n",
                            "      <td>[basedonnovel, mars, medallion, spacetravel, p...</td>\n",
                            "      <td>[TaylorKitsch, LynnCollins, SamanthaMorton]</td>\n",
                            "      <td>[AndrewStanton]</td>\n",
                            "    </tr>\n",
                            "  </tbody>\n",
                            "</table>\n",
                            "</div>"
                        ]
                    },
                    "metadata": {},
                    "execution_count": 20
                }
            ],
            "metadata": {}
        },
        {
            "cell_type": "code",
            "execution_count": 21,
            "source": [
                "movies['tags'] = movies['overview'] + movies['genres'] + movies['keywords'] + movies['cast'] + movies['crew']"
            ],
            "outputs": [],
            "metadata": {}
        },
        {
            "cell_type": "code",
            "execution_count": 22,
            "source": [
                "movies.head()"
            ],
            "outputs": [
                {
                    "output_type": "execute_result",
                    "data": {
                        "text/plain": [
                            "   movie_id                                     title  \\\n",
                            "0     19995                                    Avatar   \n",
                            "1       285  Pirates of the Caribbean: At World's End   \n",
                            "2    206647                                   Spectre   \n",
                            "3     49026                     The Dark Knight Rises   \n",
                            "4     49529                               John Carter   \n",
                            "\n",
                            "                                            overview  \\\n",
                            "0  [In, the, 22nd, century,, a, paraplegic, Marin...   \n",
                            "1  [Captain, Barbossa,, long, believed, to, be, d...   \n",
                            "2  [A, cryptic, message, from, Bond’s, past, send...   \n",
                            "3  [Following, the, death, of, District, Attorney...   \n",
                            "4  [John, Carter, is, a, war-weary,, former, mili...   \n",
                            "\n",
                            "                                         genres  \\\n",
                            "0  [Action, Adventure, Fantasy, ScienceFiction]   \n",
                            "1                  [Adventure, Fantasy, Action]   \n",
                            "2                    [Action, Adventure, Crime]   \n",
                            "3              [Action, Crime, Drama, Thriller]   \n",
                            "4           [Action, Adventure, ScienceFiction]   \n",
                            "\n",
                            "                                            keywords  \\\n",
                            "0  [cultureclash, future, spacewar, spacecolony, ...   \n",
                            "1  [ocean, drugabuse, exoticisland, eastindiatrad...   \n",
                            "2  [spy, basedonnovel, secretagent, sequel, mi6, ...   \n",
                            "3  [dccomics, crimefighter, terrorist, secretiden...   \n",
                            "4  [basedonnovel, mars, medallion, spacetravel, p...   \n",
                            "\n",
                            "                                            cast                crew  \\\n",
                            "0  [SamWorthington, ZoeSaldana, SigourneyWeaver]      [JamesCameron]   \n",
                            "1     [JohnnyDepp, OrlandoBloom, KeiraKnightley]     [GoreVerbinski]   \n",
                            "2      [DanielCraig, ChristophWaltz, LéaSeydoux]         [SamMendes]   \n",
                            "3      [ChristianBale, MichaelCaine, GaryOldman]  [ChristopherNolan]   \n",
                            "4    [TaylorKitsch, LynnCollins, SamanthaMorton]     [AndrewStanton]   \n",
                            "\n",
                            "                                                tags  \n",
                            "0  [In, the, 22nd, century,, a, paraplegic, Marin...  \n",
                            "1  [Captain, Barbossa,, long, believed, to, be, d...  \n",
                            "2  [A, cryptic, message, from, Bond’s, past, send...  \n",
                            "3  [Following, the, death, of, District, Attorney...  \n",
                            "4  [John, Carter, is, a, war-weary,, former, mili...  "
                        ],
                        "text/html": [
                            "<div>\n",
                            "<style scoped>\n",
                            "    .dataframe tbody tr th:only-of-type {\n",
                            "        vertical-align: middle;\n",
                            "    }\n",
                            "\n",
                            "    .dataframe tbody tr th {\n",
                            "        vertical-align: top;\n",
                            "    }\n",
                            "\n",
                            "    .dataframe thead th {\n",
                            "        text-align: right;\n",
                            "    }\n",
                            "</style>\n",
                            "<table border=\"1\" class=\"dataframe\">\n",
                            "  <thead>\n",
                            "    <tr style=\"text-align: right;\">\n",
                            "      <th></th>\n",
                            "      <th>movie_id</th>\n",
                            "      <th>title</th>\n",
                            "      <th>overview</th>\n",
                            "      <th>genres</th>\n",
                            "      <th>keywords</th>\n",
                            "      <th>cast</th>\n",
                            "      <th>crew</th>\n",
                            "      <th>tags</th>\n",
                            "    </tr>\n",
                            "  </thead>\n",
                            "  <tbody>\n",
                            "    <tr>\n",
                            "      <th>0</th>\n",
                            "      <td>19995</td>\n",
                            "      <td>Avatar</td>\n",
                            "      <td>[In, the, 22nd, century,, a, paraplegic, Marin...</td>\n",
                            "      <td>[Action, Adventure, Fantasy, ScienceFiction]</td>\n",
                            "      <td>[cultureclash, future, spacewar, spacecolony, ...</td>\n",
                            "      <td>[SamWorthington, ZoeSaldana, SigourneyWeaver]</td>\n",
                            "      <td>[JamesCameron]</td>\n",
                            "      <td>[In, the, 22nd, century,, a, paraplegic, Marin...</td>\n",
                            "    </tr>\n",
                            "    <tr>\n",
                            "      <th>1</th>\n",
                            "      <td>285</td>\n",
                            "      <td>Pirates of the Caribbean: At World's End</td>\n",
                            "      <td>[Captain, Barbossa,, long, believed, to, be, d...</td>\n",
                            "      <td>[Adventure, Fantasy, Action]</td>\n",
                            "      <td>[ocean, drugabuse, exoticisland, eastindiatrad...</td>\n",
                            "      <td>[JohnnyDepp, OrlandoBloom, KeiraKnightley]</td>\n",
                            "      <td>[GoreVerbinski]</td>\n",
                            "      <td>[Captain, Barbossa,, long, believed, to, be, d...</td>\n",
                            "    </tr>\n",
                            "    <tr>\n",
                            "      <th>2</th>\n",
                            "      <td>206647</td>\n",
                            "      <td>Spectre</td>\n",
                            "      <td>[A, cryptic, message, from, Bond’s, past, send...</td>\n",
                            "      <td>[Action, Adventure, Crime]</td>\n",
                            "      <td>[spy, basedonnovel, secretagent, sequel, mi6, ...</td>\n",
                            "      <td>[DanielCraig, ChristophWaltz, LéaSeydoux]</td>\n",
                            "      <td>[SamMendes]</td>\n",
                            "      <td>[A, cryptic, message, from, Bond’s, past, send...</td>\n",
                            "    </tr>\n",
                            "    <tr>\n",
                            "      <th>3</th>\n",
                            "      <td>49026</td>\n",
                            "      <td>The Dark Knight Rises</td>\n",
                            "      <td>[Following, the, death, of, District, Attorney...</td>\n",
                            "      <td>[Action, Crime, Drama, Thriller]</td>\n",
                            "      <td>[dccomics, crimefighter, terrorist, secretiden...</td>\n",
                            "      <td>[ChristianBale, MichaelCaine, GaryOldman]</td>\n",
                            "      <td>[ChristopherNolan]</td>\n",
                            "      <td>[Following, the, death, of, District, Attorney...</td>\n",
                            "    </tr>\n",
                            "    <tr>\n",
                            "      <th>4</th>\n",
                            "      <td>49529</td>\n",
                            "      <td>John Carter</td>\n",
                            "      <td>[John, Carter, is, a, war-weary,, former, mili...</td>\n",
                            "      <td>[Action, Adventure, ScienceFiction]</td>\n",
                            "      <td>[basedonnovel, mars, medallion, spacetravel, p...</td>\n",
                            "      <td>[TaylorKitsch, LynnCollins, SamanthaMorton]</td>\n",
                            "      <td>[AndrewStanton]</td>\n",
                            "      <td>[John, Carter, is, a, war-weary,, former, mili...</td>\n",
                            "    </tr>\n",
                            "  </tbody>\n",
                            "</table>\n",
                            "</div>"
                        ]
                    },
                    "metadata": {},
                    "execution_count": 22
                }
            ],
            "metadata": {}
        },
        {
            "cell_type": "code",
            "execution_count": 23,
            "source": [
                "new_df = movies[['movie_id','title','tags']]"
            ],
            "outputs": [],
            "metadata": {}
        },
        {
            "cell_type": "code",
            "execution_count": 24,
            "source": [
                "new_df['tags'] = new_df['tags'].apply(lambda x:\" \".join(x))"
            ],
            "outputs": [
                {
                    "output_type": "stream",
                    "name": "stderr",
                    "text": [
                        "<ipython-input-24-ad44e9ca1347>:1: SettingWithCopyWarning: \n",
                        "A value is trying to be set on a copy of a slice from a DataFrame.\n",
                        "Try using .loc[row_indexer,col_indexer] = value instead\n",
                        "\n",
                        "See the caveats in the documentation: https://pandas.pydata.org/pandas-docs/stable/user_guide/indexing.html#returning-a-view-versus-a-copy\n",
                        "  new_df['tags'] = new_df['tags'].apply(lambda x:\" \".join(x))\n"
                    ]
                }
            ],
            "metadata": {}
        },
        {
            "cell_type": "code",
            "execution_count": 25,
            "source": [
                "new_df.head()"
            ],
            "outputs": [
                {
                    "output_type": "execute_result",
                    "data": {
                        "text/plain": [
                            "   movie_id                                     title  \\\n",
                            "0     19995                                    Avatar   \n",
                            "1       285  Pirates of the Caribbean: At World's End   \n",
                            "2    206647                                   Spectre   \n",
                            "3     49026                     The Dark Knight Rises   \n",
                            "4     49529                               John Carter   \n",
                            "\n",
                            "                                                tags  \n",
                            "0  In the 22nd century, a paraplegic Marine is di...  \n",
                            "1  Captain Barbossa, long believed to be dead, ha...  \n",
                            "2  A cryptic message from Bond’s past sends him o...  \n",
                            "3  Following the death of District Attorney Harve...  \n",
                            "4  John Carter is a war-weary, former military ca...  "
                        ],
                        "text/html": [
                            "<div>\n",
                            "<style scoped>\n",
                            "    .dataframe tbody tr th:only-of-type {\n",
                            "        vertical-align: middle;\n",
                            "    }\n",
                            "\n",
                            "    .dataframe tbody tr th {\n",
                            "        vertical-align: top;\n",
                            "    }\n",
                            "\n",
                            "    .dataframe thead th {\n",
                            "        text-align: right;\n",
                            "    }\n",
                            "</style>\n",
                            "<table border=\"1\" class=\"dataframe\">\n",
                            "  <thead>\n",
                            "    <tr style=\"text-align: right;\">\n",
                            "      <th></th>\n",
                            "      <th>movie_id</th>\n",
                            "      <th>title</th>\n",
                            "      <th>tags</th>\n",
                            "    </tr>\n",
                            "  </thead>\n",
                            "  <tbody>\n",
                            "    <tr>\n",
                            "      <th>0</th>\n",
                            "      <td>19995</td>\n",
                            "      <td>Avatar</td>\n",
                            "      <td>In the 22nd century, a paraplegic Marine is di...</td>\n",
                            "    </tr>\n",
                            "    <tr>\n",
                            "      <th>1</th>\n",
                            "      <td>285</td>\n",
                            "      <td>Pirates of the Caribbean: At World's End</td>\n",
                            "      <td>Captain Barbossa, long believed to be dead, ha...</td>\n",
                            "    </tr>\n",
                            "    <tr>\n",
                            "      <th>2</th>\n",
                            "      <td>206647</td>\n",
                            "      <td>Spectre</td>\n",
                            "      <td>A cryptic message from Bond’s past sends him o...</td>\n",
                            "    </tr>\n",
                            "    <tr>\n",
                            "      <th>3</th>\n",
                            "      <td>49026</td>\n",
                            "      <td>The Dark Knight Rises</td>\n",
                            "      <td>Following the death of District Attorney Harve...</td>\n",
                            "    </tr>\n",
                            "    <tr>\n",
                            "      <th>4</th>\n",
                            "      <td>49529</td>\n",
                            "      <td>John Carter</td>\n",
                            "      <td>John Carter is a war-weary, former military ca...</td>\n",
                            "    </tr>\n",
                            "  </tbody>\n",
                            "</table>\n",
                            "</div>"
                        ]
                    },
                    "metadata": {},
                    "execution_count": 25
                }
            ],
            "metadata": {}
        },
        {
            "cell_type": "code",
            "execution_count": 26,
            "source": [
                "new_df['tags'] = new_df['tags'].apply(lambda x:x.lower())"
            ],
            "outputs": [
                {
                    "output_type": "stream",
                    "name": "stderr",
                    "text": [
                        "<ipython-input-26-8b60b591a07f>:1: SettingWithCopyWarning: \n",
                        "A value is trying to be set on a copy of a slice from a DataFrame.\n",
                        "Try using .loc[row_indexer,col_indexer] = value instead\n",
                        "\n",
                        "See the caveats in the documentation: https://pandas.pydata.org/pandas-docs/stable/user_guide/indexing.html#returning-a-view-versus-a-copy\n",
                        "  new_df['tags'] = new_df['tags'].apply(lambda x:x.lower())\n"
                    ]
                }
            ],
            "metadata": {}
        },
        {
            "cell_type": "code",
            "execution_count": 27,
            "source": [
                "new_df.head()"
            ],
            "outputs": [
                {
                    "output_type": "execute_result",
                    "data": {
                        "text/plain": [
                            "   movie_id                                     title  \\\n",
                            "0     19995                                    Avatar   \n",
                            "1       285  Pirates of the Caribbean: At World's End   \n",
                            "2    206647                                   Spectre   \n",
                            "3     49026                     The Dark Knight Rises   \n",
                            "4     49529                               John Carter   \n",
                            "\n",
                            "                                                tags  \n",
                            "0  in the 22nd century, a paraplegic marine is di...  \n",
                            "1  captain barbossa, long believed to be dead, ha...  \n",
                            "2  a cryptic message from bond’s past sends him o...  \n",
                            "3  following the death of district attorney harve...  \n",
                            "4  john carter is a war-weary, former military ca...  "
                        ],
                        "text/html": [
                            "<div>\n",
                            "<style scoped>\n",
                            "    .dataframe tbody tr th:only-of-type {\n",
                            "        vertical-align: middle;\n",
                            "    }\n",
                            "\n",
                            "    .dataframe tbody tr th {\n",
                            "        vertical-align: top;\n",
                            "    }\n",
                            "\n",
                            "    .dataframe thead th {\n",
                            "        text-align: right;\n",
                            "    }\n",
                            "</style>\n",
                            "<table border=\"1\" class=\"dataframe\">\n",
                            "  <thead>\n",
                            "    <tr style=\"text-align: right;\">\n",
                            "      <th></th>\n",
                            "      <th>movie_id</th>\n",
                            "      <th>title</th>\n",
                            "      <th>tags</th>\n",
                            "    </tr>\n",
                            "  </thead>\n",
                            "  <tbody>\n",
                            "    <tr>\n",
                            "      <th>0</th>\n",
                            "      <td>19995</td>\n",
                            "      <td>Avatar</td>\n",
                            "      <td>in the 22nd century, a paraplegic marine is di...</td>\n",
                            "    </tr>\n",
                            "    <tr>\n",
                            "      <th>1</th>\n",
                            "      <td>285</td>\n",
                            "      <td>Pirates of the Caribbean: At World's End</td>\n",
                            "      <td>captain barbossa, long believed to be dead, ha...</td>\n",
                            "    </tr>\n",
                            "    <tr>\n",
                            "      <th>2</th>\n",
                            "      <td>206647</td>\n",
                            "      <td>Spectre</td>\n",
                            "      <td>a cryptic message from bond’s past sends him o...</td>\n",
                            "    </tr>\n",
                            "    <tr>\n",
                            "      <th>3</th>\n",
                            "      <td>49026</td>\n",
                            "      <td>The Dark Knight Rises</td>\n",
                            "      <td>following the death of district attorney harve...</td>\n",
                            "    </tr>\n",
                            "    <tr>\n",
                            "      <th>4</th>\n",
                            "      <td>49529</td>\n",
                            "      <td>John Carter</td>\n",
                            "      <td>john carter is a war-weary, former military ca...</td>\n",
                            "    </tr>\n",
                            "  </tbody>\n",
                            "</table>\n",
                            "</div>"
                        ]
                    },
                    "metadata": {},
                    "execution_count": 27
                }
            ],
            "metadata": {}
        },
        {
            "cell_type": "code",
            "execution_count": 28,
            "source": [
                "import nltk\r\n",
                "from nltk.stem.porter import PorterStemmer\r\n",
                "\r\n",
                "ps = PorterStemmer()"
            ],
            "outputs": [],
            "metadata": {}
        },
        {
            "cell_type": "code",
            "execution_count": 29,
            "source": [
                "def stem(text):\r\n",
                "    y = []\r\n",
                "\r\n",
                "    for i in text.split():\r\n",
                "        y.append(ps.stem(i))\r\n",
                "    \r\n",
                "    return \" \".join(y)"
            ],
            "outputs": [],
            "metadata": {}
        },
        {
            "cell_type": "code",
            "execution_count": 30,
            "source": [
                "new_df['tags'] = new_df['tags'].apply(stem)"
            ],
            "outputs": [
                {
                    "output_type": "stream",
                    "name": "stderr",
                    "text": [
                        "<ipython-input-30-be18a4346d89>:1: SettingWithCopyWarning: \n",
                        "A value is trying to be set on a copy of a slice from a DataFrame.\n",
                        "Try using .loc[row_indexer,col_indexer] = value instead\n",
                        "\n",
                        "See the caveats in the documentation: https://pandas.pydata.org/pandas-docs/stable/user_guide/indexing.html#returning-a-view-versus-a-copy\n",
                        "  new_df['tags'] = new_df['tags'].apply(stem)\n"
                    ]
                }
            ],
            "metadata": {}
        },
        {
            "cell_type": "code",
            "execution_count": 31,
            "source": [
                "from sklearn.feature_extraction.text import CountVectorizer\r\n",
                "\r\n",
                "cv = CountVectorizer(max_features=5000, stop_words='english')"
            ],
            "outputs": [],
            "metadata": {}
        },
        {
            "cell_type": "code",
            "execution_count": 32,
            "source": [
                "vectors = cv.fit_transform(new_df['tags']).toarray()"
            ],
            "outputs": [],
            "metadata": {}
        },
        {
            "cell_type": "code",
            "execution_count": 33,
            "source": [
                "from sklearn.metrics.pairwise import cosine_similarity\r\n",
                "similarity = cosine_similarity(vectors)"
            ],
            "outputs": [],
            "metadata": {}
        },
        {
            "cell_type": "code",
            "execution_count": 34,
            "source": [
                "def recommend(movie):\r\n",
                "    movie_index = new_df[new_df['title'] == movie].index[0]\r\n",
                "    distances = similarity[movie_index]\r\n",
                "    movies_list =  sorted(list(enumerate(distances)), reverse=True, key=lambda x:x[1])[1:6]\r\n",
                "\r\n",
                "    for i in movies_list:\r\n",
                "        print(new_df.iloc[i[0]].title)\r\n"
            ],
            "outputs": [],
            "metadata": {}
        },
        {
            "cell_type": "code",
            "execution_count": 35,
            "source": [
                "recommend('Avatar')"
            ],
            "outputs": [
                {
                    "output_type": "stream",
                    "name": "stdout",
                    "text": [
                        "Aliens vs Predator: Requiem\n",
                        "Aliens\n",
                        "Falcon Rising\n",
                        "Independence Day\n",
                        "Titan A.E.\n"
                    ]
                }
            ],
            "metadata": {}
        },
        {
            "cell_type": "code",
            "execution_count": 36,
            "source": [
                "import pickle as pk"
            ],
            "outputs": [],
            "metadata": {}
        },
        {
            "cell_type": "code",
            "execution_count": 39,
            "source": [
                "pk.dump(new_df.to_dict(),open('movies_dict.pkl','wb'))"
            ],
            "outputs": [],
            "metadata": {}
        },
        {
            "cell_type": "code",
            "execution_count": 40,
            "source": [
                "pk.dump(similarity,open('similarity.pkl','wb'))"
            ],
            "outputs": [],
            "metadata": {}
        },
        {
            "cell_type": "code",
            "execution_count": null,
            "source": [],
            "outputs": [],
            "metadata": {}
        }
    ],
    "metadata": {
        "orig_nbformat": 4,
        "language_info": {
            "name": "python",
            "version": "3.9.6",
            "mimetype": "text/x-python",
            "codemirror_mode": {
                "name": "ipython",
                "version": 3
            },
            "pygments_lexer": "ipython3",
            "nbconvert_exporter": "python",
            "file_extension": ".py"
        },
        "kernelspec": {
            "name": "python3",
            "display_name": "Python 3.9.6 64-bit"
        },
        "interpreter": {
            "hash": "b5843a13e7131a14c3c0e364f0390d6592a995e3082c3f83420ac4385eeb2370"
        }
    },
    "nbformat": 4,
    "nbformat_minor": 2
}